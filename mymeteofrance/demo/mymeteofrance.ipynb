{
 "cells": [
  {
   "cell_type": "markdown",
   "source": [
    "# Collect data as dataframes"
   ],
   "metadata": {
    "collapsed": false
   },
   "id": "48bcfb644491276e"
  },
  {
   "cell_type": "code",
   "outputs": [],
   "source": [
    "import os\n",
    "import mymeteofrance.collect"
   ],
   "metadata": {
    "collapsed": false,
    "ExecuteTime": {
     "end_time": "2024-01-08T09:39:52.732919600Z",
     "start_time": "2024-01-08T09:39:52.395618200Z"
    }
   },
   "id": "b2fa1544ca244854",
   "execution_count": 1
  },
  {
   "cell_type": "code",
   "outputs": [
    {
     "name": "stdout",
     "output_type": "stream",
     "text": [
      "Help on function get_meteorology in module mymeteofrance.collect:\n",
      "\n",
      "get_meteorology(variables: list, station_id: int, api_key: str, start: str = None, end: str = None, check_station_id: bool = True, realtime_only: bool = False, public_only: bool = True, open_only: bool = True)\n",
      "    Collect record of meteorological data for a given MeteoFrance\n",
      "    station ID.\n",
      "    \n",
      "    :Parameters:\n",
      "    \n",
      "        variables: `list`\n",
      "            The list of variables to collect for the given meteorological\n",
      "            station. The following table contains a subset of variables\n",
      "            that can be collected via the MeteoFrance API:\n",
      "    \n",
      "            ==========  ========  ======================================\n",
      "            variable    unit      description\n",
      "            ==========  ========  ======================================\n",
      "            RR          mm        daily rainfall depth\n",
      "            ETPMON      mm        daily Monteith evapotranspiration\n",
      "            TM          °C        mean daily air temperature\n",
      "            ==========  ========  ======================================\n",
      "    \n",
      "            A full list of variables available via the MeteoFrance API\n",
      "            can be found at: https://donneespubliques.meteofrance.fr/client/\n",
      "            document/api_clim_table_parametres_quotidiens_20240103_354.csv.\n",
      "    \n",
      "        station_id: `str`\n",
      "            The 8-digit ID for the meteorological station for which data\n",
      "            is to be collected.\n",
      "    \n",
      "        api_key: `str`\n",
      "            The API key generated on https://portail-api.meteofrance.fr.\n",
      "    \n",
      "        start: `str`, optional\n",
      "            The start date to use for the data time series. The date must\n",
      "            be specified in a string following the ISO 8601-1:2019 standard,\n",
      "            i.e. “YYYY-MM-DD” (e.g. the 21st of May 2007 is “2007-05-21”).\n",
      "            If not provided, the earliest date in the available data is used.\n",
      "    \n",
      "        end: `str`, optional\n",
      "            The end date to use for the data time series. The date must\n",
      "            be specified in a string following the ISO 8601-1:2019 standard,\n",
      "            i.e. “YYYY-MM-DD” (e.g. the 21st of May 2007 is “2007-05-21”).\n",
      "            If not provided, the latest date in the available data is used.\n",
      "    \n",
      "        check_station_id: `bool`, optional\n",
      "            Whether to check if the station ID exists before collecting\n",
      "            the data. If not provided, set to default value `True`.\n",
      "    \n",
      "        realtime_only: `bool`, optional\n",
      "            Whether to check if the station ID corresponds to a real-time\n",
      "            station. If not provided, set to default value `False`. This\n",
      "            parameter is only relevant if *check_station_id* is `True`.\n",
      "    \n",
      "        open_only: `bool`, optional\n",
      "            Whether to check if the station ID corresponds to a station\n",
      "            still in operation. If not provided, set to default value\n",
      "            `True`. This parameter is only relevant if *check_station_id*\n",
      "            is `True`.\n",
      "    \n",
      "        public_only: `bool`, optional\n",
      "            Whether to check if the station ID corresponds to a public\n",
      "            station. If not provided, set to default value `True`. This\n",
      "            parameter is only relevant if *check_station_id* is `True`.\n",
      "    \n",
      "    :Returns:\n",
      "    \n",
      "        `pandas.DataFrame` or `None`\n",
      "            The dataframe containing the meteorological time series (one\n",
      "            column *DATE* plus as many columns as they are *variables*).\n",
      "            If no data is available on MeteoFrance, `None` is returned.\n"
     ]
    }
   ],
   "source": [
    "help(mymeteofrance.collect.get_meteorology)"
   ],
   "metadata": {
    "collapsed": false,
    "ExecuteTime": {
     "end_time": "2024-01-08T09:39:52.747966300Z",
     "start_time": "2024-01-08T09:39:52.736017600Z"
    }
   },
   "id": "60fce4a93046e4a3",
   "execution_count": 2
  },
  {
   "cell_type": "code",
   "outputs": [
    {
     "name": "stdout",
     "output_type": "stream",
     "text": [
      "collected data for station 20004002 for period 2021-01-01T00:00:00Z to 2021-12-31T00:00:00Z\n",
      "collected data for station 20004002 for period 2022-01-01T00:00:00Z to 2022-12-31T00:00:00Z\n"
     ]
    },
    {
     "data": {
      "text/plain": "          DATE    TM  ETPMON    RR\n0   2021-01-01   8.5     0.8  15.3\n1   2021-01-02   9.9     1.6   8.9\n2   2021-01-03   6.9     0.9   8.4\n3   2021-01-04   7.1     1.2   8.0\n4   2021-01-05   5.5     0.8   6.4\n..         ...   ...     ...   ...\n725 2022-12-27  11.4     1.6   0.0\n726 2022-12-28  10.7     1.3   0.0\n727 2022-12-29  12.0     1.7   0.0\n728 2022-12-30  13.8     1.3   0.6\n729 2022-12-31  14.1     1.3   0.0\n\n[730 rows x 4 columns]",
      "text/html": "<div>\n<style scoped>\n    .dataframe tbody tr th:only-of-type {\n        vertical-align: middle;\n    }\n\n    .dataframe tbody tr th {\n        vertical-align: top;\n    }\n\n    .dataframe thead th {\n        text-align: right;\n    }\n</style>\n<table border=\"1\" class=\"dataframe\">\n  <thead>\n    <tr style=\"text-align: right;\">\n      <th></th>\n      <th>DATE</th>\n      <th>TM</th>\n      <th>ETPMON</th>\n      <th>RR</th>\n    </tr>\n  </thead>\n  <tbody>\n    <tr>\n      <th>0</th>\n      <td>2021-01-01</td>\n      <td>8.5</td>\n      <td>0.8</td>\n      <td>15.3</td>\n    </tr>\n    <tr>\n      <th>1</th>\n      <td>2021-01-02</td>\n      <td>9.9</td>\n      <td>1.6</td>\n      <td>8.9</td>\n    </tr>\n    <tr>\n      <th>2</th>\n      <td>2021-01-03</td>\n      <td>6.9</td>\n      <td>0.9</td>\n      <td>8.4</td>\n    </tr>\n    <tr>\n      <th>3</th>\n      <td>2021-01-04</td>\n      <td>7.1</td>\n      <td>1.2</td>\n      <td>8.0</td>\n    </tr>\n    <tr>\n      <th>4</th>\n      <td>2021-01-05</td>\n      <td>5.5</td>\n      <td>0.8</td>\n      <td>6.4</td>\n    </tr>\n    <tr>\n      <th>...</th>\n      <td>...</td>\n      <td>...</td>\n      <td>...</td>\n      <td>...</td>\n    </tr>\n    <tr>\n      <th>725</th>\n      <td>2022-12-27</td>\n      <td>11.4</td>\n      <td>1.6</td>\n      <td>0.0</td>\n    </tr>\n    <tr>\n      <th>726</th>\n      <td>2022-12-28</td>\n      <td>10.7</td>\n      <td>1.3</td>\n      <td>0.0</td>\n    </tr>\n    <tr>\n      <th>727</th>\n      <td>2022-12-29</td>\n      <td>12.0</td>\n      <td>1.7</td>\n      <td>0.0</td>\n    </tr>\n    <tr>\n      <th>728</th>\n      <td>2022-12-30</td>\n      <td>13.8</td>\n      <td>1.3</td>\n      <td>0.6</td>\n    </tr>\n    <tr>\n      <th>729</th>\n      <td>2022-12-31</td>\n      <td>14.1</td>\n      <td>1.3</td>\n      <td>0.0</td>\n    </tr>\n  </tbody>\n</table>\n<p>730 rows × 4 columns</p>\n</div>"
     },
     "execution_count": 3,
     "metadata": {},
     "output_type": "execute_result"
    }
   ],
   "source": [
    "mymeteofrance.collect.get_meteorology(\n",
    "    variables=['RR', 'ETPMON', 'TM'],\n",
    "    station_id=20004002,\n",
    "    start='2021-01-01', end='2022-12-31',\n",
    "    check_station_id=False,\n",
    "    api_key=os.environ['MyMeteoFranceAPIKey']\n",
    ")"
   ],
   "metadata": {
    "collapsed": false,
    "ExecuteTime": {
     "end_time": "2024-01-08T09:40:25.588746200Z",
     "start_time": "2024-01-08T09:39:52.750039Z"
    }
   },
   "id": "7b5812b96ce53d2a",
   "execution_count": 3
  },
  {
   "cell_type": "markdown",
   "source": [
    "# Store data as PRN files"
   ],
   "metadata": {
    "collapsed": false
   },
   "id": "520ef16fef469dfc"
  },
  {
   "cell_type": "code",
   "outputs": [],
   "source": [
    "import mymeteofrance.store"
   ],
   "metadata": {
    "collapsed": false,
    "ExecuteTime": {
     "end_time": "2024-01-08T09:40:25.602254200Z",
     "start_time": "2024-01-08T09:40:25.589778600Z"
    }
   },
   "id": "78aa48dd8d07fde3",
   "execution_count": 4
  },
  {
   "cell_type": "code",
   "outputs": [
    {
     "name": "stdout",
     "output_type": "stream",
     "text": [
      "Help on function save_meteorology in module mymeteofrance.store:\n",
      "\n",
      "save_meteorology(variables: list, station_id: int, api_key: str, working_dir: str, filename: str = None, start: str = None, end: str = None, check_station_id: bool = True, realtime_only: bool = False, public_only: bool = True, open_only: bool = True)\n",
      "    Generate PRN files containing the observed meteorological data\n",
      "    for a given station and given variables.\n",
      "    \n",
      "    :Parameters:\n",
      "    \n",
      "        variables: `list`\n",
      "            The list of variables to collect for the given meteorological\n",
      "            station. The following table contains a subset of variables\n",
      "            that can be collected via the MeteoFrance API:\n",
      "    \n",
      "            ==========  ========  ======================================\n",
      "            variable    unit      description\n",
      "            ==========  ========  ======================================\n",
      "            RR          mm        daily rainfall depth\n",
      "            ETPMON      mm        daily Monteith evapotranspiration\n",
      "            TM          °C        mean daily air temperature\n",
      "            ==========  ========  ======================================\n",
      "    \n",
      "            A full list of variables available via the MeteoFrance API\n",
      "            can be found at: https://donneespubliques.meteofrance.fr/client/\n",
      "            document/api_clim_table_parametres_quotidiens_20240103_354.csv.\n",
      "    \n",
      "        station_id: `str`\n",
      "            The 8-digit ID for the meteorological station for which data\n",
      "            is to be collected.\n",
      "    \n",
      "        api_key: `str`\n",
      "            The API key generated on https://portail-api.meteofrance.fr.\n",
      "            \n",
      "        working_dir: `str`\n",
      "            The file path the working directory to use to store the data.\n",
      "    \n",
      "        filename: `str`, optional\n",
      "            The custom file name to use for storing the data. The file \n",
      "            name must contain curly braces {} at the position where each  \n",
      "            variable name should be introduced. If not provided, the \n",
      "            filename is set 'my-*.prn' where * is replaced by the name \n",
      "            of each variable.\n",
      "    \n",
      "        start: `str`, optional\n",
      "            The start date to use for the data time series. The date must\n",
      "            be specified in a string following the ISO 8601-1:2019 standard,\n",
      "            i.e. “YYYY-MM-DD” (e.g. the 21st of May 2007 is “2007-05-21”).\n",
      "            If not provided, the earliest date in the available data is used.\n",
      "    \n",
      "        end: `str`, optional\n",
      "            The end date to use for the data time series. The date must\n",
      "            be specified in a string following the ISO 8601-1:2019 standard,\n",
      "            i.e. “YYYY-MM-DD” (e.g. the 21st of May 2007 is “2007-05-21”).\n",
      "            If not provided, the latest date in the available data is used.\n",
      "    \n",
      "        check_station_id: `bool`, optional\n",
      "            Whether to check if the station ID exists before collecting\n",
      "            the data. If not provided, set to default value `True`.\n",
      "    \n",
      "        realtime_only: `bool`, optional\n",
      "            Whether to check if the station ID corresponds to a real-time\n",
      "            station. If not provided, set to default value `False`. This\n",
      "            parameter is only relevant if *check_station_id* is `True`.\n",
      "    \n",
      "        open_only: `bool`, optional\n",
      "            Whether to check if the station ID corresponds to a station\n",
      "            still in operation. If not provided, set to default value\n",
      "            `True`. This parameter is only relevant if *check_station_id*\n",
      "            is `True`.\n",
      "    \n",
      "        public_only: `bool`, optional\n",
      "            Whether to check if the station ID corresponds to a public\n",
      "            station. If not provided, set to default value `True`. This\n",
      "            parameter is only relevant if *check_station_id* is `True`.\n"
     ]
    }
   ],
   "source": [
    "help(mymeteofrance.store.save_meteorology)"
   ],
   "metadata": {
    "collapsed": false,
    "ExecuteTime": {
     "end_time": "2024-01-08T09:40:25.640293800Z",
     "start_time": "2024-01-08T09:40:25.606255100Z"
    }
   },
   "id": "3e5c46e25b031d3c",
   "execution_count": 5
  },
  {
   "cell_type": "code",
   "outputs": [
    {
     "name": "stdout",
     "output_type": "stream",
     "text": [
      "collected data for station 20004002 for period 2021-01-01T00:00:00Z to 2021-12-31T00:00:00Z\n",
      "collected data for station 20004002 for period 2022-01-01T00:00:00Z to 2022-12-31T00:00:00Z\n"
     ]
    }
   ],
   "source": [
    "mymeteofrance.store.save_meteorology(\n",
    "    variables=['RR', 'ETPMON', 'TM'],\n",
    "    station_id=20004002,\n",
    "    working_dir='../../examples/my-example', \n",
    "    filename='demo-{}.prn',\n",
    "    start='2021-01-01', end='2022-12-31',\n",
    "    check_station_id=False,\n",
    "    api_key=os.environ['MyMeteoFranceAPIKey']\n",
    ")"
   ],
   "metadata": {
    "collapsed": false,
    "ExecuteTime": {
     "end_time": "2024-01-08T09:41:13.640882100Z",
     "start_time": "2024-01-08T09:40:25.622674100Z"
    }
   },
   "id": "727f220f51c3d4f8",
   "execution_count": 6
  },
  {
   "cell_type": "code",
   "outputs": [
    {
     "name": "stdout",
     "output_type": "stream",
     "text": [
      "DATE\tRR\n",
      "2021-01-01\t15.3\n",
      "2021-01-02\t8.9\n",
      "2021-01-03\t8.4\n",
      "2021-01-04\t8.0\n"
     ]
    }
   ],
   "source": [
    "! head -5 '../../examples/my-example/data/demo-RR.prn'"
   ],
   "metadata": {
    "collapsed": false,
    "ExecuteTime": {
     "end_time": "2024-01-08T09:41:14.614329500Z",
     "start_time": "2024-01-08T09:41:13.642939200Z"
    }
   },
   "id": "850cf97766189dda",
   "execution_count": 7
  },
  {
   "cell_type": "code",
   "outputs": [
    {
     "name": "stdout",
     "output_type": "stream",
     "text": [
      "DATE\tETPMON\n",
      "2021-01-01\t0.8\n",
      "2021-01-02\t1.6\n",
      "2021-01-03\t0.9\n",
      "2021-01-04\t1.2\n"
     ]
    }
   ],
   "source": [
    "! head -5 '../../examples/my-example/data/demo-ETPMON.prn'"
   ],
   "metadata": {
    "collapsed": false,
    "ExecuteTime": {
     "end_time": "2024-01-08T09:41:15.579352700Z",
     "start_time": "2024-01-08T09:41:14.616415Z"
    }
   },
   "id": "66b574fc82b6b04",
   "execution_count": 8
  },
  {
   "cell_type": "code",
   "outputs": [
    {
     "name": "stdout",
     "output_type": "stream",
     "text": [
      "DATE\tTM\n",
      "2021-01-01\t8.5\n",
      "2021-01-02\t9.9\n",
      "2021-01-03\t6.9\n",
      "2021-01-04\t7.1\n"
     ]
    }
   ],
   "source": [
    "! head -5 '../../examples/my-example/data/demo-TM.prn'"
   ],
   "metadata": {
    "collapsed": false,
    "ExecuteTime": {
     "end_time": "2024-01-08T09:41:16.574370Z",
     "start_time": "2024-01-08T09:41:15.578275100Z"
    }
   },
   "id": "eee207521f31a5f6",
   "execution_count": 9
  }
 ],
 "metadata": {
  "kernelspec": {
   "display_name": "Python 3",
   "language": "python",
   "name": "python3"
  },
  "language_info": {
   "codemirror_mode": {
    "name": "ipython",
    "version": 2
   },
   "file_extension": ".py",
   "mimetype": "text/x-python",
   "name": "python",
   "nbconvert_exporter": "python",
   "pygments_lexer": "ipython2",
   "version": "2.7.6"
  }
 },
 "nbformat": 4,
 "nbformat_minor": 5
}
