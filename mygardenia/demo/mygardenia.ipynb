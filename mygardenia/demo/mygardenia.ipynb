{
 "cells": [
  {
   "cell_type": "markdown",
   "source": [
    "# Configure a Gardenia tree"
   ],
   "metadata": {
    "collapsed": false
   },
   "id": "39cf50a86942b2d1"
  },
  {
   "cell_type": "code",
   "outputs": [],
   "source": [
    "import mygardenia.configure"
   ],
   "metadata": {
    "collapsed": false,
    "ExecuteTime": {
     "end_time": "2024-01-08T10:02:24.937532500Z",
     "start_time": "2024-01-08T10:02:24.901492100Z"
    }
   },
   "id": "b10709568fe986f9",
   "execution_count": 1
  },
  {
   "cell_type": "code",
   "outputs": [],
   "source": [
    "working_dir = '../../examples/my-example'"
   ],
   "metadata": {
    "collapsed": true,
    "ExecuteTime": {
     "end_time": "2024-01-08T10:02:24.937532500Z",
     "start_time": "2024-01-08T10:02:24.921405700Z"
    }
   },
   "id": "initial_id",
   "execution_count": 2
  },
  {
   "cell_type": "markdown",
   "source": [
    "## Either via the use of TOML files"
   ],
   "metadata": {
    "collapsed": false
   },
   "id": "9b99810dd71133d5"
  },
  {
   "cell_type": "code",
   "outputs": [
    {
     "name": "stdout",
     "output_type": "stream",
     "text": [
      "Help on function __init__ in module mygardenia.configure:\n",
      "\n",
      "__init__(self, catchment: str = None, settings: str = None)\n",
      "    Initialise a configuration tree gathering all the settings\n",
      "     and parameters for the Gardenia model.\n",
      "    \n",
      "    :Parameters:\n",
      "    \n",
      "        catchment: `str`, optional\n",
      "            The path to the TOML file containing the information about\n",
      "            the simulation data for the catchment to simulate.\n",
      "    \n",
      "        settings: `str`, optional\n",
      "            The path to the TOML file containing the settings and\n",
      "            the parameters configuring the simulation with the\n",
      "            Gardenia model.\n",
      "    \n",
      "    :Returns:\n",
      "    \n",
      "        `GardeniaTree`\n",
      "    \n",
      "    **Examples**\n",
      "    \n",
      "    Generating a configuration tree with default values:\n",
      "    \n",
      "    >>> t = GardeniaTree()\n",
      "    \n",
      "    Generating a configuration tree with default values except for\n",
      "    those settings and parameters whose values are contained in the\n",
      "    given TOML files:\n",
      "    \n",
      "    >>> t = GardeniaTree(\n",
      "    ...     catchment='examples/my-example/config/bassin.toml',\n",
      "    ...     settings='examples/my-example/config/reglages.toml'\n",
      "    ... )\n"
     ]
    }
   ],
   "source": [
    "help(mygardenia.configure.GardeniaTree.__init__)"
   ],
   "metadata": {
    "collapsed": false,
    "ExecuteTime": {
     "end_time": "2024-01-08T10:02:24.959600400Z",
     "start_time": "2024-01-08T10:02:24.937532500Z"
    }
   },
   "id": "f46bbac24560ec65",
   "execution_count": 3
  },
  {
   "cell_type": "code",
   "outputs": [],
   "source": [
    "tree = mygardenia.configure.GardeniaTree(\n",
    "    catchment=f'{working_dir}/config/bassin.toml',\n",
    "    settings=f'{working_dir}/config/reglages.toml',\n",
    ")"
   ],
   "metadata": {
    "collapsed": false,
    "ExecuteTime": {
     "end_time": "2024-01-08T10:02:24.980877400Z",
     "start_time": "2024-01-08T10:02:24.951306600Z"
    }
   },
   "id": "77c5eb1116696031",
   "execution_count": 4
  },
  {
   "cell_type": "markdown",
   "source": [
    "## Or via a nested dictionary"
   ],
   "metadata": {
    "collapsed": false
   },
   "id": "abf3cdc7693a3cf"
  },
  {
   "cell_type": "code",
   "outputs": [],
   "source": [
    "tree = mygardenia.configure.GardeniaTree()"
   ],
   "metadata": {
    "collapsed": false,
    "ExecuteTime": {
     "end_time": "2024-01-08T10:02:24.999034Z",
     "start_time": "2024-01-08T10:02:24.981906900Z"
    }
   },
   "id": "e671d11887761ddd",
   "execution_count": 5
  },
  {
   "cell_type": "code",
   "outputs": [
    {
     "name": "stdout",
     "output_type": "stream",
     "text": [
      "Help on method update in module mygardenia.configure:\n",
      "\n",
      "update(updates: dict) method of mygardenia.configure.GardeniaTree instance\n",
      "    Update the existing values in the configuration tree.\n",
      "    \n",
      "    :Parameters:\n",
      "    \n",
      "        updates: `dict`\n",
      "            The configuration updates to overwrite the existing\n",
      "            values contained in the Gardenia tree.\n",
      "    \n",
      "    :Returns:\n",
      "    \n",
      "        `None`\n",
      "    \n",
      "    **Examples**\n",
      "    \n",
      "    Generating a configuration tree with default values, then\n",
      "    updating some of the default values it contains:\n",
      "    \n",
      "    >>> t = GardeniaTree()\n",
      "    >>> t.update(\n",
      "    ...     {\n",
      "    ...         'data': {\n",
      "    ...             'simulation': {\n",
      "    ...                 'rainfall': 'pluie.prn',\n",
      "    ...                 'pet': 'etp.prn'\n",
      "    ...             },\n",
      "    ...             'observation': {\n",
      "    ...                 'streamflow': 'debit.prn',\n",
      "    ...                 'piezo-level': 'niveau.prn'\n",
      "    ...             }\n",
      "    ...         }\n",
      "    ...     }\n",
      "    ... )\n",
      "    \n",
      "    Generating a configuration tree with default values, then\n",
      "    trying to update some of the default values it contains with\n",
      "    erroneous dictionary keys:\n",
      "    \n",
      "    >>> t = GardeniaTree()\n",
      "    >>> t.update(\n",
      "    ...     {\n",
      "    ...         'data': {\n",
      "    ...             'simulations': {\n",
      "    ...                 'rainfall': 'pluie.prn',\n",
      "    ...                 'pet': 'etp.prn'\n",
      "    ...             },\n",
      "    ...             'observations': {\n",
      "    ...                 'streamflow': 'debit.prn',\n",
      "    ...                 'piezo-level': 'niveau.prn'\n",
      "    ...             }\n",
      "    ...         }\n",
      "    ...     }\n",
      "    ... )  # doctest: +ELLIPSIS\n",
      "    Traceback (most recent call last):\n",
      "        ...\n",
      "    KeyError: \"settings ('simulations', 'observations') were not found in Gardenia tree\"\n"
     ]
    }
   ],
   "source": [
    "help(tree.update)"
   ],
   "metadata": {
    "collapsed": false,
    "ExecuteTime": {
     "end_time": "2024-01-08T10:02:25.022143900Z",
     "start_time": "2024-01-08T10:02:24.999034Z"
    }
   },
   "id": "940c8d5607f53e63",
   "execution_count": 6
  },
  {
   "cell_type": "code",
   "outputs": [],
   "source": [
    "tree.update(\n",
    "    {\n",
    "        'data': {\n",
    "            'simulation': {\n",
    "                'rainfall': 'pluie.prn',\n",
    "                'pet': 'etp.prn'\n",
    "            },\n",
    "            'observation': {\n",
    "                'streamflow': 'debit.prn',\n",
    "                'piezo-level': 'niveau.prn'\n",
    "            }\n",
    "        },\n",
    "        'description': {\n",
    "            'project': \"example run\",\n",
    "            'basin': \"example\",\n",
    "        },\n",
    "        'general_settings': {\n",
    "            'user_profile': '0',\n",
    "            'execution_mode': 'M',\n",
    "            'streamflow_obs_weight': 5,\n",
    "            'piezo-level_obs_weight': 2,\n",
    "            'calc_streamflow': True,\n",
    "            'calc_piezo-level': True,\n",
    "            'save_recharge_effective-rainfall': True,\n",
    "            'save_streamflow_piezo-level': True,\n",
    "            'save_water-balance': False,\n",
    "            'computation_scheme': '0'\n",
    "        },\n",
    "        'basin_settings': {\n",
    "            'model': {\n",
    "                'initialisation': {\n",
    "                    'spinup': {\n",
    "                        'n_years': 4,\n",
    "                        'n_cycles': 1\n",
    "                    }\n",
    "                },\n",
    "                'calibration': {\n",
    "                    'max_iterations': 250\n",
    "                }\n",
    "            },\n",
    "            'time': {\n",
    "                'simulation': {\n",
    "                    'first_year': 1985\n",
    "                }\n",
    "            }\n",
    "        },\n",
    "        'physical_parameters': {\n",
    "            'basin_area': {\n",
    "                'val': 524\n",
    "            },\n",
    "            'pumping_groundwater_half-life_rise': {\n",
    "                'val': 0.0,\n",
    "                'opt': False,\n",
    "                'min': 0.05,\n",
    "                'max': 10.0\n",
    "            }\n",
    "        }\n",
    "    }\n",
    ")"
   ],
   "metadata": {
    "collapsed": false,
    "ExecuteTime": {
     "end_time": "2024-01-08T10:02:25.031554100Z",
     "start_time": "2024-01-08T10:02:25.014933Z"
    }
   },
   "id": "71f460204daa62a",
   "execution_count": 7
  },
  {
   "cell_type": "markdown",
   "source": [
    "# Initialise a Gardenia model"
   ],
   "metadata": {
    "collapsed": false
   },
   "id": "b3cc85b4c965dace"
  },
  {
   "cell_type": "code",
   "outputs": [],
   "source": [
    "import mygardenia.simulate"
   ],
   "metadata": {
    "collapsed": false,
    "ExecuteTime": {
     "end_time": "2024-01-08T10:02:25.580047600Z",
     "start_time": "2024-01-08T10:02:25.031554100Z"
    }
   },
   "id": "d5df305e0d0fda3",
   "execution_count": 8
  },
  {
   "cell_type": "code",
   "outputs": [
    {
     "name": "stdout",
     "output_type": "stream",
     "text": [
      "Help on function __init__ in module mygardenia.simulate:\n",
      "\n",
      "__init__(self, tree: mygardenia.configure.GardeniaTree, working_dir: str)\n",
      "    Initialise a wrapper for a simulation with the Gardenia model.\n",
      "    \n",
      "    :Parameters:\n",
      "    \n",
      "        tree: `GardeniaTree`\n",
      "            The Gardenia tree containing all the settings and parameters\n",
      "            to be given to the Gardenia model.\n",
      "    \n",
      "        working_dir: `str`\n",
      "            The path to the directory containing the simulation data,\n",
      "            the potential configuration files and the future simulation\n",
      "            output.\n",
      "    \n",
      "    :Returns:\n",
      "    \n",
      "        `GardeniaModel`\n",
      "    \n",
      "    **Examples**\n",
      "    \n",
      "    >>> t = GardeniaTree()\n",
      "    >>> m = GardeniaModel(t, working_dir='examples/my-example')\n"
     ]
    }
   ],
   "source": [
    "help(mygardenia.simulate.GardeniaModel.__init__)"
   ],
   "metadata": {
    "collapsed": false,
    "ExecuteTime": {
     "end_time": "2024-01-08T10:02:25.593994600Z",
     "start_time": "2024-01-08T10:02:25.581118200Z"
    }
   },
   "id": "2b4537fed68af1f1",
   "execution_count": 9
  },
  {
   "cell_type": "code",
   "outputs": [],
   "source": [
    "model = mygardenia.simulate.GardeniaModel(tree, working_dir)"
   ],
   "metadata": {
    "collapsed": false,
    "ExecuteTime": {
     "end_time": "2024-01-08T10:02:25.622934900Z",
     "start_time": "2024-01-08T10:02:25.595072600Z"
    }
   },
   "id": "5026abaae9f09d05",
   "execution_count": 10
  },
  {
   "cell_type": "markdown",
   "source": [
    "# Run a simulation"
   ],
   "metadata": {
    "collapsed": false
   },
   "id": "c3e9a1d5a19ffcaf"
  },
  {
   "cell_type": "code",
   "outputs": [
    {
     "name": "stdout",
     "output_type": "stream",
     "text": [
      "Help on method run in module mygardenia.simulate:\n",
      "\n",
      "run(execution_mode: str = 'M', save_outputs: bool = True, _verbose: bool = False) method of mygardenia.simulate.GardeniaModel instance\n",
      "    Run the simulation with Gardenia.\n",
      "    \n",
      "    :Parameters:\n",
      "    \n",
      "        execution_mode: `str`, optional\n",
      "            The execution mode to use when calling Gardenia. It\n",
      "            can be 'M' for silent or 'D' for direct. If not provided,\n",
      "            silent mode is used.\n",
      "    \n",
      "        save_outputs: `str`, optional\n",
      "            Whether to try to save the streamflow and/or piezometric\n",
      "            level as separate CSV files if they are available in\n",
      "            Gardenia output files. If not provided, set to True.\n",
      "    \n",
      "    :Returns:\n",
      "    \n",
      "        `None`\n",
      "    \n",
      "    **Examples**\n",
      "    \n",
      "    >>> t = GardeniaTree(\n",
      "    ...     catchment='examples/my-example/config/bassin.toml',\n",
      "    ...     settings='examples/my-example/config/reglages.toml'\n",
      "    ... )\n",
      "    >>> m = GardeniaModel(t, working_dir='examples/my-example')\n",
      "    >>> m.run(save_outputs=True)\n"
     ]
    }
   ],
   "source": [
    "help(model.run)"
   ],
   "metadata": {
    "collapsed": false,
    "ExecuteTime": {
     "end_time": "2024-01-08T10:02:25.627064300Z",
     "start_time": "2024-01-08T10:02:25.611124300Z"
    }
   },
   "id": "e029f97c34d6f77c",
   "execution_count": 11
  },
  {
   "cell_type": "code",
   "outputs": [],
   "source": [
    "model.run(execution_mode='M')"
   ],
   "metadata": {
    "collapsed": false,
    "ExecuteTime": {
     "end_time": "2024-01-08T10:02:26.362448400Z",
     "start_time": "2024-01-08T10:02:25.628100100Z"
    }
   },
   "id": "2743f3752cc4bc8f",
   "execution_count": 12
  },
  {
   "cell_type": "markdown",
   "source": [
    "# Visualise model outputs"
   ],
   "metadata": {
    "collapsed": false
   },
   "id": "3dfce8579a075d5d"
  },
  {
   "cell_type": "code",
   "outputs": [
    {
     "name": "stdout",
     "output_type": "stream",
     "text": [
      "Help on method visualise in module mygardenia.simulate:\n",
      "\n",
      "visualise(variable: str, filename: str = None, fig_size: tuple = None) method of mygardenia.simulate.GardeniaModel instance\n",
      "    Visualise the simulations and the observations time series\n",
      "    for a given variable.\n",
      "    \n",
      "    :Parameters:\n",
      "    \n",
      "        variable: `str`\n",
      "            The model variable to evaluate. It can either be\n",
      "            'streamflow' or 'piezo_level'.\n",
      "    \n",
      "        filename: `str`, optional\n",
      "            The file name to use for storing the visualisation. The\n",
      "            file extension in the name will control the file format\n",
      "            generated (e.g. *.pdf, *.png). If not provided, the\n",
      "            visualisation is only shown and not saved as a file.\n",
      "            \n",
      "        fig_size: `tuple`, optional\n",
      "            The width and the height of the figure as a tuple.\n",
      "            If not provided, set to (10, 4).\n",
      "    \n",
      "    :Returns:\n",
      "    \n",
      "        `None`\n",
      "    \n",
      "    **Examples**\n",
      "    \n",
      "    >>> t = GardeniaTree(\n",
      "    ...     catchment='examples/my-example/config/bassin.toml',\n",
      "    ...     settings='examples/my-example/config/reglages.toml'\n",
      "    ... )\n",
      "    >>> m = GardeniaModel(t, working_dir='examples/my-example')\n",
      "    >>> m.run(save_outputs=True)\n",
      "    >>> m.visualise('streamflow', filename='my-debit.pdf')\n",
      "    >>> m.visualise('piezo_level', filename='my-niveau.png')\n"
     ]
    }
   ],
   "source": [
    "help(model.visualise)"
   ],
   "metadata": {
    "collapsed": false,
    "ExecuteTime": {
     "end_time": "2024-01-08T10:02:26.380751900Z",
     "start_time": "2024-01-08T10:02:26.363543100Z"
    }
   },
   "id": "92017d4e554a0ed5",
   "execution_count": 13
  },
  {
   "cell_type": "code",
   "outputs": [
    {
     "data": {
      "text/plain": "<Figure size 1000x400 with 1 Axes>",
      "image/png": "[encoded data removed]"
     },
     "metadata": {},
     "output_type": "display_data"
    }
   ],
   "source": [
    "model.visualise(variable='streamflow')"
   ],
   "metadata": {
    "collapsed": false,
    "ExecuteTime": {
     "end_time": "2024-01-08T10:02:26.659917200Z",
     "start_time": "2024-01-08T10:02:26.384031700Z"
    }
   },
   "id": "6c878c8ed1b0e2cb",
   "execution_count": 14
  },
  {
   "cell_type": "code",
   "outputs": [
    {
     "data": {
      "text/plain": "<Figure size 1000x400 with 1 Axes>",
      "image/png": "[encoded data removed]"
     },
     "metadata": {},
     "output_type": "display_data"
    }
   ],
   "source": [
    "model.visualise(variable='piezo_level')"
   ],
   "metadata": {
    "collapsed": false,
    "ExecuteTime": {
     "end_time": "2024-01-08T10:02:26.800076300Z",
     "start_time": "2024-01-08T10:02:26.661980800Z"
    }
   },
   "id": "de57465ccaa6f25c",
   "execution_count": 15
  },
  {
   "cell_type": "markdown",
   "source": [
    "# Evaluation model performance"
   ],
   "metadata": {
    "collapsed": false
   },
   "id": "5ad9ca71ea52d23e"
  },
  {
   "cell_type": "code",
   "outputs": [
    {
     "name": "stdout",
     "output_type": "stream",
     "text": [
      "Help on method evaluate in module mygardenia.simulate:\n",
      "\n",
      "evaluate(variable: str, metric: str, transform: str = None, exponent: float = None) method of mygardenia.simulate.GardeniaModel instance\n",
      "    Evaluate the performance between the simulations and the\n",
      "    observations for a given variable.\n",
      "    \n",
      "    :Parameters:\n",
      "    \n",
      "        variable: `str`\n",
      "            The model variable to evaluate. It can either be\n",
      "            'streamflow' or 'piezo_level'.\n",
      "    \n",
      "        metric: `str`\n",
      "            The evaluation metric to use to compare observations and\n",
      "            simulations. It can be any metric available in `evalhyd`\n",
      "            (https://hydrogr.github.io/evalhyd/metrics/deterministic.html)\n",
      "    \n",
      "        transform: `str`, optional\n",
      "            The transformation function to apply to the observations\n",
      "            and the predictions before computing the metric. It can\n",
      "            be 'log', 'inv', 'sqrt', 'pow'. If not provided, no\n",
      "            transformation is performed.\n",
      "    \n",
      "        exponent: `float`, optional\n",
      "            The exponent to use if the transform is set to 'pow',\n",
      "            the power function.\n",
      "    \n",
      "    :Returns:\n",
      "    \n",
      "        `numpy.ndarray`\n",
      "            The array containing the value(s) of the evaluation metric.\n",
      "    \n",
      "    **Examples**\n",
      "    \n",
      "    >>> t = GardeniaTree(\n",
      "    ...     catchment='examples/my-example/config/bassin.toml',\n",
      "    ...     settings='examples/my-example/config/reglages.toml'\n",
      "    ... )\n",
      "    >>> m = GardeniaModel(t, working_dir='examples/my-example')\n",
      "    >>> m.run(save_outputs=True)\n",
      "    >>> m.evaluate('streamflow', 'KGE')\n",
      "    array(0.74406113)\n",
      "    >>> m.evaluate('piezo_level', 'NSE', transform='sqrt')\n",
      "    array(-436.91149994)\n"
     ]
    }
   ],
   "source": [
    "help(model.evaluate)"
   ],
   "metadata": {
    "collapsed": false,
    "ExecuteTime": {
     "end_time": "2024-01-08T10:02:26.893443200Z",
     "start_time": "2024-01-08T10:02:26.801138400Z"
    }
   },
   "id": "284249bcc80a9fe",
   "execution_count": 16
  },
  {
   "cell_type": "code",
   "outputs": [
    {
     "data": {
      "text/plain": "array(0.74406113)"
     },
     "execution_count": 17,
     "metadata": {},
     "output_type": "execute_result"
    }
   ],
   "source": [
    "model.evaluate(variable='streamflow', metric='KGE')"
   ],
   "metadata": {
    "collapsed": false,
    "ExecuteTime": {
     "end_time": "2024-01-08T10:02:26.894496600Z",
     "start_time": "2024-01-08T10:02:26.818071400Z"
    }
   },
   "id": "d85fc46f71dd5258",
   "execution_count": 17
  },
  {
   "cell_type": "code",
   "outputs": [
    {
     "data": {
      "text/plain": "array(-260.01490503)"
     },
     "execution_count": 18,
     "metadata": {},
     "output_type": "execute_result"
    }
   ],
   "source": [
    "model.evaluate(variable='piezo_level', metric='NSE')"
   ],
   "metadata": {
    "collapsed": false,
    "ExecuteTime": {
     "end_time": "2024-01-08T10:02:26.950696900Z",
     "start_time": "2024-01-08T10:02:26.833771800Z"
    }
   },
   "id": "cb0ee2feac372351",
   "execution_count": 18
  }
 ],
 "metadata": {
  "kernelspec": {
   "display_name": "Python 3",
   "language": "python",
   "name": "python3"
  },
  "language_info": {
   "codemirror_mode": {
    "name": "ipython",
    "version": 2
   },
   "file_extension": ".py",
   "mimetype": "text/x-python",
   "name": "python",
   "nbconvert_exporter": "python",
   "pygments_lexer": "ipython2",
   "version": "2.7.6"
  }
 },
 "nbformat": 4,
 "nbformat_minor": 5
}
