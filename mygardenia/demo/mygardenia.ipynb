{
 "cells": [
  {
   "cell_type": "markdown",
   "source": [
    "# Configure a Gardenia tree"
   ],
   "metadata": {
    "collapsed": false
   },
   "id": "39cf50a86942b2d1"
  },
  {
   "cell_type": "code",
   "outputs": [],
   "source": [
    "import mygardenia.configure"
   ],
   "metadata": {
    "collapsed": false,
    "ExecuteTime": {
     "end_time": "2024-01-16T08:17:00.769257200Z",
     "start_time": "2024-01-16T08:17:00.749230700Z"
    }
   },
   "id": "b10709568fe986f9",
   "execution_count": 1
  },
  {
   "cell_type": "code",
   "outputs": [],
   "source": [
    "working_dir = '../../examples/my-example'"
   ],
   "metadata": {
    "collapsed": true,
    "ExecuteTime": {
     "end_time": "2024-01-16T08:17:00.780669500Z",
     "start_time": "2024-01-16T08:17:00.765977900Z"
    }
   },
   "id": "initial_id",
   "execution_count": 2
  },
  {
   "cell_type": "markdown",
   "source": [
    "## Either via the use of TOML files (option 1)"
   ],
   "metadata": {
    "collapsed": false
   },
   "id": "9b99810dd71133d5"
  },
  {
   "cell_type": "code",
   "outputs": [
    {
     "name": "stdout",
     "output_type": "stream",
     "text": [
      "Help on function __init__ in module mygardenia.configure:\n",
      "\n",
      "__init__(self, catchment: str = None, settings: str = None)\n",
      "    Initialise a configuration tree gathering all the settings\n",
      "     and parameters for the Gardenia model.\n",
      "    \n",
      "    :Parameters:\n",
      "    \n",
      "        catchment: `str`, optional\n",
      "            The path to the TOML file containing the information about\n",
      "            the simulation data for the catchment to simulate.\n",
      "    \n",
      "        settings: `str`, optional\n",
      "            The path to the TOML file containing the settings and\n",
      "            the parameters configuring the simulation with the\n",
      "            Gardenia model.\n",
      "    \n",
      "    :Returns:\n",
      "    \n",
      "        `GardeniaTree`\n",
      "    \n",
      "    **Examples**\n",
      "    \n",
      "    Generating a configuration tree with default values:\n",
      "    \n",
      "    >>> t = GardeniaTree()\n",
      "    \n",
      "    Generating a configuration tree with default values except for\n",
      "    those settings and parameters whose values are contained in the\n",
      "    given TOML files:\n",
      "    \n",
      "    >>> t = GardeniaTree(\n",
      "    ...     catchment='examples/my-example/config/bassin.toml',\n",
      "    ...     settings='examples/my-example/config/reglages.toml'\n",
      "    ... )\n"
     ]
    }
   ],
   "source": [
    "help(mygardenia.configure.GardeniaTree.__init__)"
   ],
   "metadata": {
    "collapsed": false,
    "ExecuteTime": {
     "end_time": "2024-01-16T08:17:00.794759700Z",
     "start_time": "2024-01-16T08:17:00.781700700Z"
    }
   },
   "id": "f46bbac24560ec65",
   "execution_count": 3
  },
  {
   "cell_type": "code",
   "outputs": [],
   "source": [
    "tree = mygardenia.configure.GardeniaTree(\n",
    "    catchment=f'{working_dir}/config/bassin.toml',\n",
    "    settings=f'{working_dir}/config/reglages.toml',\n",
    ")"
   ],
   "metadata": {
    "collapsed": false,
    "ExecuteTime": {
     "end_time": "2024-01-16T08:17:00.826017400Z",
     "start_time": "2024-01-16T08:17:00.795830700Z"
    }
   },
   "id": "77c5eb1116696031",
   "execution_count": 4
  },
  {
   "cell_type": "markdown",
   "source": [
    "## Or via the use of RGA and GAR files (option 2)"
   ],
   "metadata": {
    "collapsed": false
   },
   "id": "61606424c7f0d5ee"
  },
  {
   "cell_type": "code",
   "outputs": [
    {
     "name": "stdout",
     "output_type": "stream",
     "text": [
      "Help on method from_rga_gar in module mygardenia.configure:\n",
      "\n",
      "from_rga_gar(rga: str, gar: str) method of abc.ABCMeta instance\n",
      "    Initialise a configuration tree from the RGA and GAR files\n",
      "    of Gardenia v8.8.\n",
      "    \n",
      "    :Parameters:\n",
      "    \n",
      "        rga: `str`, optional\n",
      "            The path to the RGA file containing the information about\n",
      "            the simulation data for the catchment to simulate.\n",
      "    \n",
      "        gar: `str`, optional\n",
      "            The path to the GAR file containing the settings and\n",
      "            the parameters configuring the simulation with the\n",
      "            Gardenia model.\n",
      "    \n",
      "    :Returns:\n",
      "    \n",
      "        `GardeniaTree`\n",
      "    \n",
      "    **Examples**\n",
      "    \n",
      "    >>> t = GardeniaTree.from_rga_gar(\n",
      "    ...     rga='examples/my-example/config/exemple.rga',\n",
      "    ...     gar='examples/my-example/config/exemple.gar'\n",
      "    ... )\n"
     ]
    }
   ],
   "source": [
    "help(mygardenia.configure.GardeniaTree.from_rga_gar)"
   ],
   "metadata": {
    "collapsed": false,
    "ExecuteTime": {
     "end_time": "2024-01-16T08:17:00.841420100Z",
     "start_time": "2024-01-16T08:17:00.828162300Z"
    }
   },
   "id": "2709774143ede742",
   "execution_count": 5
  },
  {
   "cell_type": "code",
   "outputs": [],
   "source": [
    "tree = mygardenia.configure.GardeniaTree.from_rga_gar(\n",
    "    rga=f'{working_dir}/config/exemple.rga',\n",
    "    gar=f'{working_dir}/config/exemple.gar',\n",
    ")"
   ],
   "metadata": {
    "collapsed": false,
    "ExecuteTime": {
     "end_time": "2024-01-16T08:17:00.870545Z",
     "start_time": "2024-01-16T08:17:00.844651800Z"
    }
   },
   "id": "ce30a2bf8968bf6e",
   "execution_count": 6
  },
  {
   "cell_type": "markdown",
   "source": [
    "## Or via the use of a nested dictionary (option 3)"
   ],
   "metadata": {
    "collapsed": false
   },
   "id": "abf3cdc7693a3cf"
  },
  {
   "cell_type": "code",
   "outputs": [],
   "source": [
    "tree = mygardenia.configure.GardeniaTree()"
   ],
   "metadata": {
    "collapsed": false,
    "ExecuteTime": {
     "end_time": "2024-01-16T08:17:00.876818500Z",
     "start_time": "2024-01-16T08:17:00.858219400Z"
    }
   },
   "id": "e671d11887761ddd",
   "execution_count": 7
  },
  {
   "cell_type": "code",
   "outputs": [
    {
     "name": "stdout",
     "output_type": "stream",
     "text": [
      "Help on method update in module mygardenia.configure:\n",
      "\n",
      "update(updates: dict) method of mygardenia.configure.GardeniaTree instance\n",
      "    Update the existing values in the configuration tree.\n",
      "    \n",
      "    :Parameters:\n",
      "    \n",
      "        updates: `dict`\n",
      "            The configuration updates to overwrite the existing\n",
      "            values contained in the Gardenia tree.\n",
      "    \n",
      "    :Returns:\n",
      "    \n",
      "        `None`\n",
      "    \n",
      "    **Examples**\n",
      "    \n",
      "    Generating a configuration tree with default values, then\n",
      "    updating some of the default values it contains:\n",
      "    \n",
      "    >>> t = GardeniaTree()\n",
      "    >>> t.update(\n",
      "    ...     {\n",
      "    ...         'data': {\n",
      "    ...             'simulation': {\n",
      "    ...                 'rainfall': 'pluie.prn',\n",
      "    ...                 'pet': 'etp.prn'\n",
      "    ...             },\n",
      "    ...             'observation': {\n",
      "    ...                 'streamflow': 'debit.prn',\n",
      "    ...                 'piezo-level': 'niveau.prn'\n",
      "    ...             }\n",
      "    ...         }\n",
      "    ...     }\n",
      "    ... )\n",
      "    \n",
      "    Generating a configuration tree with default values, then\n",
      "    trying to update some of the default values it contains with\n",
      "    erroneous dictionary keys:\n",
      "    \n",
      "    >>> t = GardeniaTree()\n",
      "    >>> t.update(\n",
      "    ...     {\n",
      "    ...         'data': {\n",
      "    ...             'simulations': {\n",
      "    ...                 'rainfall': 'pluie.prn',\n",
      "    ...                 'pet': 'etp.prn'\n",
      "    ...             },\n",
      "    ...             'observations': {\n",
      "    ...                 'streamflow': 'debit.prn',\n",
      "    ...                 'piezo-level': 'niveau.prn'\n",
      "    ...             }\n",
      "    ...         }\n",
      "    ...     }\n",
      "    ... )  # doctest: +ELLIPSIS\n",
      "    Traceback (most recent call last):\n",
      "        ...\n",
      "    KeyError: \"settings ('simulations', 'observations') were not found in Gardenia tree\"\n"
     ]
    }
   ],
   "source": [
    "help(tree.update)"
   ],
   "metadata": {
    "collapsed": false,
    "ExecuteTime": {
     "end_time": "2024-01-16T08:17:00.897844Z",
     "start_time": "2024-01-16T08:17:00.874690700Z"
    }
   },
   "id": "940c8d5607f53e63",
   "execution_count": 8
  },
  {
   "cell_type": "code",
   "outputs": [],
   "source": [
    "tree.update(\n",
    "    {\n",
    "        'data': {\n",
    "            'simulation': {\n",
    "                'rainfall': 'pluie.prn',\n",
    "                'pet': 'etp.prn'\n",
    "            },\n",
    "            'observation': {\n",
    "                'streamflow': 'debit.prn',\n",
    "                'piezo-level': 'niveau.prn'\n",
    "            }\n",
    "        },\n",
    "        'description': {\n",
    "            'project': \"example run\",\n",
    "            'basin': \"example\",\n",
    "        },\n",
    "        'general_settings': {\n",
    "            'streamflow_obs_weight': 5,\n",
    "            'piezo-level_obs_weight': 2,\n",
    "            'calc_streamflow': True,\n",
    "            'calc_piezo-level': True,\n",
    "            'save_recharge_effective-rainfall': False,\n",
    "            'save_streamflow_piezo-level': True,\n",
    "            'save_water-balance': '2',\n",
    "            'save_impulse_and_cumulative_response': False,\n",
    "            'computation_scheme': '0',\n",
    "            'transform_calibration_data': '0',\n",
    "            'forecast_run': False,\n",
    "            'forecast_method': '0',\n",
    "            'underground_exchange_scheme': '0',\n",
    "            'consider_snow': False,\n",
    "            'snowfall_in_file': '0',\n",
    "            'data_per_hydro_year': '0',\n",
    "            'streamflow_loss': '0'\n",
    "        },\n",
    "        'filter_settings': {\n",
    "            'observed_streamflow_to_consider': {\n",
    "                'min': 0.0, 'max': 0.0\n",
    "            },\n",
    "            'observed_piezo-level_to_consider': {\n",
    "                'min': 0.0, 'max': 0.0\n",
    "            },\n",
    "            'simulated_streamflow_lower_limit_to_apply': 0.0\n",
    "        },\n",
    "        'forecast_settings': {\n",
    "            'readjustment_factor': 0,\n",
    "            'standard_deviation_of_intermediate_reservoir': 0,\n",
    "            'standard_deviation_of_groundwater_reservoir_1': 0,\n",
    "            'standard_deviation_of_groundwater_reservoir_2': 0,\n",
    "            'standard_deviation_of_observed_piezo-level': 0,\n",
    "            'half-life_fall_streamflow_forecast': 0,\n",
    "            'half-life_fall_piezo-level_forecast': 0\n",
    "        },\n",
    "        'basin_settings': {\n",
    "            'time': {\n",
    "                'simulation': {\n",
    "                    'n_years_in_data': 0,\n",
    "                    'first_year': 1985,\n",
    "                    'first_month': 0,\n",
    "                    'first_day': 0\n",
    "                },\n",
    "                'forecast': {\n",
    "                    'n_years_in_data': 0,\n",
    "                    'first_year': 1985,\n",
    "                    'issue_month': 0,\n",
    "                    'issue_day': 0,\n",
    "                    'span': 90,\n",
    "                    'pumping_year': 0\n",
    "                }\n",
    "            },\n",
    "            'model': {\n",
    "                'initialisation': {\n",
    "                    'antecedent_conditions': 0,\n",
    "                    'spinup': {\n",
    "                        'n_years': 4,\n",
    "                        'n_cycles': 1\n",
    "                    }\n",
    "                },\n",
    "                'calibration': {\n",
    "                    'n_tail_years_to_trim': 0,\n",
    "                    'max_iterations': 450\n",
    "                },\n",
    "                'structure': {\n",
    "                    'n_groundwater_reservoirs': 1,\n",
    "                    'groundwater_reservoir_for_piezo-level': 1,\n",
    "                    'intermediate_runoff_by_overspill': '0',\n",
    "                    'intermediate_reservoir_evapotranspiration_decrease_only_when_half_empty': False,\n",
    "                    'constant_runoff_ratio_scheme': False,\n",
    "                    'storage_coefficient_computation_scheme': '0'\n",
    "                }\n",
    "            }\n",
    "        },\n",
    "        'physical_parameters': {\n",
    "            'annual_effective-rainfall': {\n",
    "                'val': 0\n",
    "            },\n",
    "            'external_flow': {\n",
    "                'val': 0, 'opt': False\n",
    "            },\n",
    "            'basin_area': {\n",
    "                'val': 524, 'opt': False\n",
    "            },\n",
    "            'rainfall_correction': {\n",
    "                'val': 0, 'opt': False, 'min': -10, 'max': 10\n",
    "            },\n",
    "            'pet_correction': {\n",
    "                'val': 0, 'opt': False, 'min': -15, 'max': 15\n",
    "            },\n",
    "            'basin_area_correction': {\n",
    "                'val': 1, 'opt': False, 'min': 0.02, 'max': 50\n",
    "            },\n",
    "            'thornthewaite_reservoir_capacity': {\n",
    "                'val': 0, 'opt': False, 'min': 0, 'max': 500\n",
    "            },\n",
    "            'progressive_reservoir_capacity': {\n",
    "                'val': 150, 'opt': True, 'min': 0, 'max': 650\n",
    "            },\n",
    "            'intermediate_runoff_seepage': {\n",
    "                'val': 50, 'opt': True, 'min': 1, 'max': 9999\n",
    "            },\n",
    "            'intermediate_half-life_seepage': {\n",
    "                'val': 0.5, 'opt': True, 'min': 0.05, 'max': 10\n",
    "            },\n",
    "            'groundwater_1_drainage': {\n",
    "                'val': 3, 'opt': True, 'min': 0.05, 'max': 15\n",
    "            },\n",
    "            'groundwater_1_2_exchange': {\n",
    "                'val': 0, 'opt': False, 'min': 0.05, 'max': 50\n",
    "            },\n",
    "            'groundwater_1_double_outflow_threshold': {\n",
    "                'val': 0, 'opt': False, 'min': 0, 'max': 9999\n",
    "            },\n",
    "            'groundwater_2_drainage': {\n",
    "                'val': 0, 'opt': False, 'min': 0.05, 'max': 50\n",
    "            },\n",
    "            'groundwater_external_exchange': {\n",
    "                'val': 0, 'opt': False, 'min': -70, 'max': 80\n",
    "            },\n",
    "            'time_of_concentration': {\n",
    "                'val': 0, 'opt': False, 'min': 0, 'max': 10\n",
    "            },\n",
    "            'thornthewaite_reservoir_initial_deficit': {\n",
    "                'val': 0, 'opt': False, 'min': 0, 'max': 999\n",
    "            },\n",
    "            'progressive_reservoir_initial_deficit': {\n",
    "                'val': 0, 'opt': False, 'min': 0, 'max': 999\n",
    "            },\n",
    "            'intermediate_runoff_threshold': {\n",
    "                'val': 0, 'opt': False, 'min': 0, 'max': 9999\n",
    "            },\n",
    "            'intermediate_half-life_runoff_by_overspill': {\n",
    "                'val': 0, 'opt': False, 'min': 0.05, 'max': 9999\n",
    "            },\n",
    "            'intermediate_half-life_max_runoff_decrease': {\n",
    "                'val': 0, 'opt': False, 'min': 0.0001, 'max': 1000\n",
    "            },\n",
    "            'groundwater_base_level': {\n",
    "                'val': 0, 'opt': False\n",
    "            },\n",
    "            'groundwater_storage_coefficient': {\n",
    "                'val': 0, 'opt': False, 'min': 0.5, 'max': 35\n",
    "            },\n",
    "            'air-temp_correction': {\n",
    "                'val': 0, 'opt': False, 'min': -3, 'max': 3\n",
    "            },\n",
    "            'snowfall_retention_factor': {\n",
    "                'val': 0, 'opt': False, 'min': 0.001, 'max': 30\n",
    "            },\n",
    "            'snow_evaporation_factor': {\n",
    "                'val': 0, 'opt': False, 'min': -20, 'max': 20\n",
    "            },\n",
    "            'snow_melt_correction_with_rainfall': {\n",
    "                'val': 0, 'opt': False, 'min': -20, 'max': 20\n",
    "            },\n",
    "            'natural_snow_melting_threshold': {\n",
    "                'val': 0, 'opt': False, 'min': -2, 'max': 2\n",
    "            },\n",
    "            'snow_melt_degree_day_factor': {\n",
    "                'val': 0, 'opt': False, 'min': 0.001, 'max': 7\n",
    "            },\n",
    "            'snow_melting_in_contact_with_soil': {\n",
    "                'val': 0, 'opt': False, 'min': 0.001, 'max': 20\n",
    "            },\n",
    "            'pumping_river_influence_factor': {\n",
    "                'val': 1, 'opt': False\n",
    "            },\n",
    "            'pumping_river_half-life_rise': {\n",
    "                'val': 0.5, 'opt': False, 'min': 0.05, 'max': 10\n",
    "            },\n",
    "            'pumping_river_half-life_fall': {\n",
    "                'val': 2, 'opt': False, 'min': 0.05, 'max': 15\n",
    "            },\n",
    "            'pumping_groundwater_influence_factor': {\n",
    "                'val': 1, 'opt': False\n",
    "            },\n",
    "            'pumping_groundwater_half-life_rise': {\n",
    "                'val': 0.5, 'opt': False, 'min': 0.05, 'max': 10\n",
    "            },\n",
    "            'pumping_groundwater_half-life_fall': {\n",
    "                'val': 2, 'opt': False, 'min': 0.05, 'max': 15\n",
    "            }\n",
    "        }\n",
    "    }\n",
    ")"
   ],
   "metadata": {
    "collapsed": false,
    "ExecuteTime": {
     "end_time": "2024-01-16T08:17:00.904813200Z",
     "start_time": "2024-01-16T08:17:00.890231400Z"
    }
   },
   "id": "71f460204daa62a",
   "execution_count": 9
  },
  {
   "cell_type": "markdown",
   "source": [
    "# Initialise a Gardenia model"
   ],
   "metadata": {
    "collapsed": false
   },
   "id": "b3cc85b4c965dace"
  },
  {
   "cell_type": "code",
   "outputs": [],
   "source": [
    "import mygardenia.simulate"
   ],
   "metadata": {
    "collapsed": false,
    "ExecuteTime": {
     "end_time": "2024-01-16T08:17:01.431217800Z",
     "start_time": "2024-01-16T08:17:00.905846800Z"
    }
   },
   "id": "d5df305e0d0fda3",
   "execution_count": 10
  },
  {
   "cell_type": "code",
   "outputs": [
    {
     "name": "stdout",
     "output_type": "stream",
     "text": [
      "Help on function __init__ in module mygardenia.simulate:\n",
      "\n",
      "__init__(self, tree: mygardenia.configure.GardeniaTree, working_dir: str)\n",
      "    Initialise a wrapper for a simulation with the Gardenia model.\n",
      "    \n",
      "    :Parameters:\n",
      "    \n",
      "        tree: `GardeniaTree`\n",
      "            The Gardenia tree containing all the settings and parameters\n",
      "            to be given to the Gardenia model.\n",
      "    \n",
      "        working_dir: `str`\n",
      "            The path to the directory containing the simulation data,\n",
      "            the potential configuration files and the future simulation\n",
      "            output.\n",
      "    \n",
      "    :Returns:\n",
      "    \n",
      "        `GardeniaModel`\n",
      "    \n",
      "    **Examples**\n",
      "    \n",
      "    >>> t = GardeniaTree()\n",
      "    >>> m = GardeniaModel(t, working_dir='examples/my-example')\n"
     ]
    }
   ],
   "source": [
    "help(mygardenia.simulate.GardeniaModel.__init__)"
   ],
   "metadata": {
    "collapsed": false,
    "ExecuteTime": {
     "end_time": "2024-01-16T08:17:01.447910500Z",
     "start_time": "2024-01-16T08:17:01.433301300Z"
    }
   },
   "id": "2b4537fed68af1f1",
   "execution_count": 11
  },
  {
   "cell_type": "code",
   "outputs": [],
   "source": [
    "model = mygardenia.simulate.GardeniaModel(tree, working_dir)"
   ],
   "metadata": {
    "collapsed": false,
    "ExecuteTime": {
     "end_time": "2024-01-16T08:17:01.472333900Z",
     "start_time": "2024-01-16T08:17:01.448947Z"
    }
   },
   "id": "5026abaae9f09d05",
   "execution_count": 12
  },
  {
   "cell_type": "markdown",
   "source": [
    "# Run a simulation"
   ],
   "metadata": {
    "collapsed": false
   },
   "id": "c3e9a1d5a19ffcaf"
  },
  {
   "cell_type": "code",
   "outputs": [
    {
     "name": "stdout",
     "output_type": "stream",
     "text": [
      "Help on method run in module mygardenia.simulate:\n",
      "\n",
      "run(execution_mode: str = 'M', save_outputs: bool = True, _verbose: bool = False) method of mygardenia.simulate.GardeniaModel instance\n",
      "    Run the simulation with Gardenia.\n",
      "    \n",
      "    :Parameters:\n",
      "    \n",
      "        execution_mode: `str`, optional\n",
      "            The execution mode to use when calling Gardenia. It\n",
      "            can be 'M' for silent or 'D' for direct. If not provided,\n",
      "            silent mode is used.\n",
      "    \n",
      "        save_outputs: `str`, optional\n",
      "            Whether to try to save the streamflow and/or piezometric\n",
      "            level as separate CSV files if they are available in\n",
      "            Gardenia output files. If not provided, set to True.\n",
      "    \n",
      "    :Returns:\n",
      "    \n",
      "        `None`\n",
      "    \n",
      "    **Examples**\n",
      "    \n",
      "    >>> t = GardeniaTree(\n",
      "    ...     catchment='examples/my-example/config/bassin.toml',\n",
      "    ...     settings='examples/my-example/config/reglages.toml'\n",
      "    ... )\n",
      "    >>> m = GardeniaModel(t, working_dir='examples/my-example')\n",
      "    >>> m.run(save_outputs=True)\n"
     ]
    }
   ],
   "source": [
    "help(model.run)"
   ],
   "metadata": {
    "collapsed": false,
    "ExecuteTime": {
     "end_time": "2024-01-16T08:17:01.481173600Z",
     "start_time": "2024-01-16T08:17:01.465453400Z"
    }
   },
   "id": "e029f97c34d6f77c",
   "execution_count": 13
  },
  {
   "cell_type": "code",
   "outputs": [],
   "source": [
    "model.run(execution_mode='M')"
   ],
   "metadata": {
    "collapsed": false,
    "ExecuteTime": {
     "end_time": "2024-01-16T08:17:02.331187800Z",
     "start_time": "2024-01-16T08:17:01.481787400Z"
    }
   },
   "id": "2743f3752cc4bc8f",
   "execution_count": 14
  },
  {
   "cell_type": "markdown",
   "source": [
    "# Visualise model outputs"
   ],
   "metadata": {
    "collapsed": false
   },
   "id": "3dfce8579a075d5d"
  },
  {
   "cell_type": "code",
   "outputs": [
    {
     "name": "stdout",
     "output_type": "stream",
     "text": [
      "Help on method visualise in module mygardenia.simulate:\n",
      "\n",
      "visualise(variable: str, period: str = None, filename: str = None, fig_size: tuple = None, return_fig: bool = False) method of mygardenia.simulate.GardeniaModel instance\n",
      "    Visualise the simulations and the observations time series\n",
      "    for a given variable.\n",
      "    \n",
      "    :Parameters:\n",
      "    \n",
      "        variable: `str`\n",
      "            The model variable to evaluate. It can either be\n",
      "            'streamflow' or 'piezo_level'.\n",
      "    \n",
      "        period: `str`, optional\n",
      "            The period to consider for the computation of the evaluation\n",
      "            metric. It can either be 'calib' (only the period used for\n",
      "            calibration is considered, excluding the initialisation\n",
      "            period) or 'eval' (only the tail period left aside and not\n",
      "            used for the calibration is considered). If not provided,\n",
      "            set to default value 'calib'.\n",
      "    \n",
      "        filename: `str`, optional\n",
      "            The file name to use for storing the visualisation. The\n",
      "            file extension in the name will control the file format\n",
      "            generated (e.g. *.pdf, *.png). If not provided, the\n",
      "            visualisation is only shown and not saved as a file.\n",
      "            \n",
      "        fig_size: `tuple`, optional\n",
      "            The width and the height of the figure as a tuple.\n",
      "            If not provided, set to (10, 4).\n",
      "    \n",
      "        return_fig: `bool`, optional\n",
      "            Whether to return the figure object used to generate the\n",
      "            plot. If not provided, it is not returned.\n",
      "    \n",
      "    :Returns:\n",
      "    \n",
      "        `None` or `matplotlib.figure.Figure`\n",
      "            The figure used to create the plot to use if further\n",
      "            customisation is necessary.\n",
      "    \n",
      "    **Examples**\n",
      "    \n",
      "    >>> t = GardeniaTree(\n",
      "    ...     catchment='examples/my-example/config/bassin.toml',\n",
      "    ...     settings='examples/my-example/config/reglages.toml'\n",
      "    ... )\n",
      "    >>> m = GardeniaModel(t, working_dir='examples/my-example')\n",
      "    >>> m.run(save_outputs=True)\n",
      "    >>> m.visualise('streamflow', filename='my-debit.pdf')\n",
      "    >>> m.visualise('piezo_level', filename='my-niveau.png')\n"
     ]
    }
   ],
   "source": [
    "help(model.visualise)"
   ],
   "metadata": {
    "collapsed": false,
    "ExecuteTime": {
     "end_time": "2024-01-16T08:17:02.346960Z",
     "start_time": "2024-01-16T08:17:02.333276400Z"
    }
   },
   "id": "92017d4e554a0ed5",
   "execution_count": 15
  },
  {
   "cell_type": "code",
   "outputs": [
    {
     "data": {
      "text/plain": "<Figure size 1000x400 with 1 Axes>",
      "image/png": "[encoded data removed]"
     },
     "metadata": {},
     "output_type": "display_data"
    }
   ],
   "source": [
    "model.visualise(variable='streamflow')"
   ],
   "metadata": {
    "collapsed": false,
    "ExecuteTime": {
     "end_time": "2024-01-16T08:17:02.580048500Z",
     "start_time": "2024-01-16T08:17:02.349088Z"
    }
   },
   "id": "6c878c8ed1b0e2cb",
   "execution_count": 16
  },
  {
   "cell_type": "code",
   "outputs": [
    {
     "data": {
      "text/plain": "<Figure size 1000x400 with 1 Axes>",
      "image/png": "[encoded data removed]"
     },
     "metadata": {},
     "output_type": "display_data"
    }
   ],
   "source": [
    "model.visualise(variable='piezo_level')"
   ],
   "metadata": {
    "collapsed": false,
    "ExecuteTime": {
     "end_time": "2024-01-16T08:17:02.718855900Z",
     "start_time": "2024-01-16T08:17:02.582654100Z"
    }
   },
   "id": "de57465ccaa6f25c",
   "execution_count": 17
  },
  {
   "cell_type": "markdown",
   "source": [
    "# Evaluation model performance"
   ],
   "metadata": {
    "collapsed": false
   },
   "id": "5ad9ca71ea52d23e"
  },
  {
   "cell_type": "code",
   "outputs": [
    {
     "name": "stdout",
     "output_type": "stream",
     "text": [
      "Help on method evaluate in module mygardenia.simulate:\n",
      "\n",
      "evaluate(variable: str, metric: str, period: str = None, transform: str = None, exponent: float = None) method of mygardenia.simulate.GardeniaModel instance\n",
      "    Evaluate the performance between the simulations and the\n",
      "    observations for a given variable.\n",
      "    \n",
      "    :Parameters:\n",
      "    \n",
      "        variable: `str`\n",
      "            The model variable to evaluate. It can either be\n",
      "            'streamflow' or 'piezo_level'.\n",
      "    \n",
      "        metric: `str`\n",
      "            The evaluation metric to use to compare observations and\n",
      "            simulations. It can be any metric available in `evalhyd`\n",
      "            (https://hydrogr.github.io/evalhyd/metrics/deterministic.html)\n",
      "    \n",
      "        period: `str`, optional\n",
      "            The period to consider for the computation of the evaluation\n",
      "            metric. It can either be 'calib' (only the period used for\n",
      "            calibration is considered, excluding the initialisation\n",
      "            period) or 'eval' (only the tail period left aside and not\n",
      "            used for the calibration is considered). If not provided,\n",
      "            set to default value 'calib'.\n",
      "    \n",
      "        transform: `str`, optional\n",
      "            The transformation function to apply to the observations\n",
      "            and the predictions before computing the metric. It can\n",
      "            be 'log', 'inv', 'sqrt', 'pow'. If not provided, no\n",
      "            transformation is performed.\n",
      "    \n",
      "        exponent: `float`, optional\n",
      "            The exponent to use if the transform is set to 'pow',\n",
      "            the power function.\n",
      "    \n",
      "    :Returns:\n",
      "    \n",
      "        `numpy.ndarray`\n",
      "            The array containing the value(s) of the evaluation metric.\n",
      "    \n",
      "    **Examples**\n",
      "    \n",
      "    >>> t = GardeniaTree(\n",
      "    ...     catchment='examples/my-example/config/bassin.toml',\n",
      "    ...     settings='examples/my-example/config/reglages.toml'\n",
      "    ... )\n",
      "    >>> m = GardeniaModel(t, working_dir='examples/my-example')\n",
      "    >>> m.run(save_outputs=True)\n",
      "    >>> m.evaluate('streamflow', 'KGE')\n",
      "    array(0.74406113)\n",
      "    >>> m.evaluate('piezo_level', 'NSE', transform='sqrt')\n",
      "    array(-436.91149994)\n"
     ]
    }
   ],
   "source": [
    "help(model.evaluate)"
   ],
   "metadata": {
    "collapsed": false,
    "ExecuteTime": {
     "end_time": "2024-01-16T08:17:02.770295Z",
     "start_time": "2024-01-16T08:17:02.722490900Z"
    }
   },
   "id": "284249bcc80a9fe",
   "execution_count": 18
  },
  {
   "cell_type": "code",
   "outputs": [
    {
     "data": {
      "text/plain": "array(0.74435109)"
     },
     "execution_count": 19,
     "metadata": {},
     "output_type": "execute_result"
    }
   ],
   "source": [
    "model.evaluate(variable='streamflow', metric='KGE')"
   ],
   "metadata": {
    "collapsed": false,
    "ExecuteTime": {
     "end_time": "2024-01-16T08:17:02.770295Z",
     "start_time": "2024-01-16T08:17:02.734890900Z"
    }
   },
   "id": "d85fc46f71dd5258",
   "execution_count": 19
  },
  {
   "cell_type": "code",
   "outputs": [
    {
     "data": {
      "text/plain": "array(-260.02471301)"
     },
     "execution_count": 20,
     "metadata": {},
     "output_type": "execute_result"
    }
   ],
   "source": [
    "model.evaluate(variable='piezo_level', metric='NSE')"
   ],
   "metadata": {
    "collapsed": false,
    "ExecuteTime": {
     "end_time": "2024-01-16T08:17:02.791206600Z",
     "start_time": "2024-01-16T08:17:02.750464300Z"
    }
   },
   "id": "cb0ee2feac372351",
   "execution_count": 20
  }
 ],
 "metadata": {
  "kernelspec": {
   "display_name": "Python 3",
   "language": "python",
   "name": "python3"
  },
  "language_info": {
   "codemirror_mode": {
    "name": "ipython",
    "version": 2
   },
   "file_extension": ".py",
   "mimetype": "text/x-python",
   "name": "python",
   "nbconvert_exporter": "python",
   "pygments_lexer": "ipython2",
   "version": "2.7.6"
  }
 },
 "nbformat": 4,
 "nbformat_minor": 5
}
