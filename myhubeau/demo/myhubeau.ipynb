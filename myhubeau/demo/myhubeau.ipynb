{
 "cells": [
  {
   "cell_type": "markdown",
   "source": [
    "# Collect data as dataframes"
   ],
   "metadata": {
    "collapsed": false
   },
   "id": "7dbccfe27737eae2"
  },
  {
   "cell_type": "code",
   "outputs": [],
   "source": [
    "import myhubeau.collect"
   ],
   "metadata": {
    "collapsed": true,
    "ExecuteTime": {
     "end_time": "2024-01-08T09:10:14.003637500Z",
     "start_time": "2024-01-08T09:10:13.659892700Z"
    }
   },
   "id": "initial_id",
   "execution_count": 1
  },
  {
   "cell_type": "markdown",
   "source": [
    "## Hydrometry"
   ],
   "metadata": {
    "collapsed": false
   },
   "id": "5e6dd98620aba70"
  },
  {
   "cell_type": "code",
   "outputs": [
    {
     "name": "stdout",
     "output_type": "stream",
     "text": [
      "Help on function get_hydrometry in module myhubeau.collect:\n",
      "\n",
      "get_hydrometry(code_station: str, include_realtime: bool = True) -> pandas.core.frame.DataFrame | None\n",
      "    Collect entire record of observed hydrometric data for a given\n",
      "    station (in cubic metres per second) from HydroPortail via Hub'Eau.\n",
      "    \n",
      "    :Parameters:\n",
      "    \n",
      "        code_station: `str`\n",
      "            The code of the hydrometric station for which streamflow\n",
      "            data is requested from HydroPortail via Hub'Eau.\n",
      "    \n",
      "        include_realtime: `bool`, optional\n",
      "            Whether to include real-time data (if available) and\n",
      "            aggregate it with consolidated data. If not provided,\n",
      "            set to default value `True`.\n",
      "    \n",
      "    :Returns:\n",
      "    \n",
      "        `pandas.DataFrame` or `None`\n",
      "            The dataframe containing the streamflow time series (two\n",
      "            columns *Date* and *Debit*). If no data is available on\n",
      "            Hub'Eau, `None` is returned.\n",
      "    \n",
      "    **Examples**\n",
      "    \n",
      "    Collecting consolidated and real-time streamflow data for a given\n",
      "    hydrometric station:\n",
      "    \n",
      "    >>> get_hydrometry(code_station='M107302001')  # doctest: +ELLIPSIS\n",
      "               Date       Debit\n",
      "    0    1996-08-02        82.0\n",
      "    1    1996-08-03        81.0\n",
      "    2    1996-08-04        79.0\n",
      "    3    1996-08-05        67.0\n",
      "    4    1996-08-06        57.0\n",
      "    ...\n"
     ]
    }
   ],
   "source": [
    "help(myhubeau.collect.get_hydrometry)"
   ],
   "metadata": {
    "collapsed": false,
    "ExecuteTime": {
     "end_time": "2024-01-08T09:10:14.017592200Z",
     "start_time": "2024-01-08T09:10:14.003637500Z"
    }
   },
   "id": "81d6054b6ef27ff0",
   "execution_count": 2
  },
  {
   "cell_type": "code",
   "outputs": [
    {
     "data": {
      "text/plain": "            Date     Debit\n0     1981-02-10     4.059\n1     1981-02-11     4.254\n2     1981-02-12     4.123\n3     1981-02-13     4.145\n4     1981-02-14     4.115\n...          ...       ...\n15668 2024-01-04     4.567\n15669 2024-01-05     3.754\n15670 2024-01-06     3.591\n15671 2024-01-07     3.465\n15672 2024-01-08  3.400577\n\n[15673 rows x 2 columns]",
      "text/html": "<div>\n<style scoped>\n    .dataframe tbody tr th:only-of-type {\n        vertical-align: middle;\n    }\n\n    .dataframe tbody tr th {\n        vertical-align: top;\n    }\n\n    .dataframe thead th {\n        text-align: right;\n    }\n</style>\n<table border=\"1\" class=\"dataframe\">\n  <thead>\n    <tr style=\"text-align: right;\">\n      <th></th>\n      <th>Date</th>\n      <th>Debit</th>\n    </tr>\n  </thead>\n  <tbody>\n    <tr>\n      <th>0</th>\n      <td>1981-02-10</td>\n      <td>4.059</td>\n    </tr>\n    <tr>\n      <th>1</th>\n      <td>1981-02-11</td>\n      <td>4.254</td>\n    </tr>\n    <tr>\n      <th>2</th>\n      <td>1981-02-12</td>\n      <td>4.123</td>\n    </tr>\n    <tr>\n      <th>3</th>\n      <td>1981-02-13</td>\n      <td>4.145</td>\n    </tr>\n    <tr>\n      <th>4</th>\n      <td>1981-02-14</td>\n      <td>4.115</td>\n    </tr>\n    <tr>\n      <th>...</th>\n      <td>...</td>\n      <td>...</td>\n    </tr>\n    <tr>\n      <th>15668</th>\n      <td>2024-01-04</td>\n      <td>4.567</td>\n    </tr>\n    <tr>\n      <th>15669</th>\n      <td>2024-01-05</td>\n      <td>3.754</td>\n    </tr>\n    <tr>\n      <th>15670</th>\n      <td>2024-01-06</td>\n      <td>3.591</td>\n    </tr>\n    <tr>\n      <th>15671</th>\n      <td>2024-01-07</td>\n      <td>3.465</td>\n    </tr>\n    <tr>\n      <th>15672</th>\n      <td>2024-01-08</td>\n      <td>3.400577</td>\n    </tr>\n  </tbody>\n</table>\n<p>15673 rows × 2 columns</p>\n</div>"
     },
     "execution_count": 3,
     "metadata": {},
     "output_type": "execute_result"
    }
   ],
   "source": [
    "myhubeau.collect.get_hydrometry(code_station='E642601001')"
   ],
   "metadata": {
    "collapsed": false,
    "ExecuteTime": {
     "end_time": "2024-01-08T09:10:34.598203100Z",
     "start_time": "2024-01-08T09:10:14.019680600Z"
    }
   },
   "id": "9206b2add863b621",
   "execution_count": 3
  },
  {
   "cell_type": "markdown",
   "source": [
    "## Piezometry"
   ],
   "metadata": {
    "collapsed": false
   },
   "id": "d55669fbe9c31a12"
  },
  {
   "cell_type": "code",
   "outputs": [
    {
     "data": {
      "text/plain": "            Date   Niveau\n0     1970-09-10   179.77\n1     1970-09-11      NaN\n2     1970-09-12      NaN\n3     1970-09-13      NaN\n4     1970-09-14      NaN\n...          ...      ...\n19471 2024-01-01   166.53\n19472 2024-01-02   166.82\n19473 2024-01-03   166.89\n19474 2024-01-04   166.93\n19475 2024-01-05  166.919\n\n[19476 rows x 2 columns]",
      "text/html": "<div>\n<style scoped>\n    .dataframe tbody tr th:only-of-type {\n        vertical-align: middle;\n    }\n\n    .dataframe tbody tr th {\n        vertical-align: top;\n    }\n\n    .dataframe thead th {\n        text-align: right;\n    }\n</style>\n<table border=\"1\" class=\"dataframe\">\n  <thead>\n    <tr style=\"text-align: right;\">\n      <th></th>\n      <th>Date</th>\n      <th>Niveau</th>\n    </tr>\n  </thead>\n  <tbody>\n    <tr>\n      <th>0</th>\n      <td>1970-09-10</td>\n      <td>179.77</td>\n    </tr>\n    <tr>\n      <th>1</th>\n      <td>1970-09-11</td>\n      <td>NaN</td>\n    </tr>\n    <tr>\n      <th>2</th>\n      <td>1970-09-12</td>\n      <td>NaN</td>\n    </tr>\n    <tr>\n      <th>3</th>\n      <td>1970-09-13</td>\n      <td>NaN</td>\n    </tr>\n    <tr>\n      <th>4</th>\n      <td>1970-09-14</td>\n      <td>NaN</td>\n    </tr>\n    <tr>\n      <th>...</th>\n      <td>...</td>\n      <td>...</td>\n    </tr>\n    <tr>\n      <th>19471</th>\n      <td>2024-01-01</td>\n      <td>166.53</td>\n    </tr>\n    <tr>\n      <th>19472</th>\n      <td>2024-01-02</td>\n      <td>166.82</td>\n    </tr>\n    <tr>\n      <th>19473</th>\n      <td>2024-01-03</td>\n      <td>166.89</td>\n    </tr>\n    <tr>\n      <th>19474</th>\n      <td>2024-01-04</td>\n      <td>166.93</td>\n    </tr>\n    <tr>\n      <th>19475</th>\n      <td>2024-01-05</td>\n      <td>166.919</td>\n    </tr>\n  </tbody>\n</table>\n<p>19476 rows × 2 columns</p>\n</div>"
     },
     "execution_count": 4,
     "metadata": {},
     "output_type": "execute_result"
    }
   ],
   "source": [
    "myhubeau.collect.get_piezometry(code_bss='00608X0028/S1')"
   ],
   "metadata": {
    "collapsed": false,
    "ExecuteTime": {
     "end_time": "2024-01-08T09:11:11.431667400Z",
     "start_time": "2024-01-08T09:10:34.598203100Z"
    }
   },
   "id": "eca8d7ad36b2a01c",
   "execution_count": 4
  },
  {
   "cell_type": "markdown",
   "source": [
    "## Withdrawal"
   ],
   "metadata": {
    "collapsed": false
   },
   "id": "b76fdee2a3c6e53d"
  },
  {
   "cell_type": "code",
   "outputs": [
    {
     "data": {
      "text/plain": "         Date Prelevement souterrain\n0  2008-01-01                16976.0\n1  2009-01-01                14339.0\n2  2010-01-01                12464.0\n3  2011-01-01                12705.0\n4  2012-01-01                13074.0\n5  2013-01-01                10582.0\n6  2014-01-01                10858.0\n7  2015-01-01                12352.0\n8  2016-01-01                 9207.0\n9  2017-01-01                10851.0\n10 2018-01-01                11379.0\n11 2019-01-01                10694.0\n12 2020-01-01                10953.0\n13 2021-01-01                10455.0",
      "text/html": "<div>\n<style scoped>\n    .dataframe tbody tr th:only-of-type {\n        vertical-align: middle;\n    }\n\n    .dataframe tbody tr th {\n        vertical-align: top;\n    }\n\n    .dataframe thead th {\n        text-align: right;\n    }\n</style>\n<table border=\"1\" class=\"dataframe\">\n  <thead>\n    <tr style=\"text-align: right;\">\n      <th></th>\n      <th>Date</th>\n      <th>Prelevement souterrain</th>\n    </tr>\n  </thead>\n  <tbody>\n    <tr>\n      <th>0</th>\n      <td>2008-01-01</td>\n      <td>16976.0</td>\n    </tr>\n    <tr>\n      <th>1</th>\n      <td>2009-01-01</td>\n      <td>14339.0</td>\n    </tr>\n    <tr>\n      <th>2</th>\n      <td>2010-01-01</td>\n      <td>12464.0</td>\n    </tr>\n    <tr>\n      <th>3</th>\n      <td>2011-01-01</td>\n      <td>12705.0</td>\n    </tr>\n    <tr>\n      <th>4</th>\n      <td>2012-01-01</td>\n      <td>13074.0</td>\n    </tr>\n    <tr>\n      <th>5</th>\n      <td>2013-01-01</td>\n      <td>10582.0</td>\n    </tr>\n    <tr>\n      <th>6</th>\n      <td>2014-01-01</td>\n      <td>10858.0</td>\n    </tr>\n    <tr>\n      <th>7</th>\n      <td>2015-01-01</td>\n      <td>12352.0</td>\n    </tr>\n    <tr>\n      <th>8</th>\n      <td>2016-01-01</td>\n      <td>9207.0</td>\n    </tr>\n    <tr>\n      <th>9</th>\n      <td>2017-01-01</td>\n      <td>10851.0</td>\n    </tr>\n    <tr>\n      <th>10</th>\n      <td>2018-01-01</td>\n      <td>11379.0</td>\n    </tr>\n    <tr>\n      <th>11</th>\n      <td>2019-01-01</td>\n      <td>10694.0</td>\n    </tr>\n    <tr>\n      <th>12</th>\n      <td>2020-01-01</td>\n      <td>10953.0</td>\n    </tr>\n    <tr>\n      <th>13</th>\n      <td>2021-01-01</td>\n      <td>10455.0</td>\n    </tr>\n  </tbody>\n</table>\n</div>"
     },
     "execution_count": 5,
     "metadata": {},
     "output_type": "execute_result"
    }
   ],
   "source": [
    "myhubeau.collect.get_withdrawal(code_ouvrage='OPR0000041735')"
   ],
   "metadata": {
    "collapsed": false,
    "ExecuteTime": {
     "end_time": "2024-01-08T09:12:30.399811800Z",
     "start_time": "2024-01-08T09:11:11.431667400Z"
    }
   },
   "id": "2716e28fa30399cb",
   "execution_count": 5
  },
  {
   "cell_type": "markdown",
   "source": [
    "# Store data as PRN files"
   ],
   "metadata": {
    "collapsed": false
   },
   "id": "ac8f4e87f35a5976"
  },
  {
   "cell_type": "code",
   "outputs": [],
   "source": [
    "import myhubeau.store"
   ],
   "metadata": {
    "collapsed": false,
    "ExecuteTime": {
     "end_time": "2024-01-08T09:16:27.574497100Z",
     "start_time": "2024-01-08T09:16:27.551550400Z"
    }
   },
   "id": "e52730ab48af862e",
   "execution_count": 6
  },
  {
   "cell_type": "markdown",
   "source": [
    "## Hydrometry"
   ],
   "metadata": {
    "collapsed": false
   },
   "id": "61b029a69f71785a"
  },
  {
   "cell_type": "code",
   "outputs": [
    {
     "name": "stdout",
     "output_type": "stream",
     "text": [
      "Help on function save_hydrometry in module myhubeau.store:\n",
      "\n",
      "save_hydrometry(code_station: str, working_dir: str, filename: str = None, start: str = None, end: str = None, include_realtime: bool = True)\n",
      "    Generate a PRN file containing the observed hydrometric data\n",
      "    for a given station.\n",
      "    \n",
      "    :Parameters:\n",
      "    \n",
      "        code_station: `str`\n",
      "            The code of the hydrometric station for which streamflow\n",
      "            data is requested from HydroPortail via Hub'Eau.\n",
      "    \n",
      "        working_dir: `str`\n",
      "            The file path the working directory to use to store the data.\n",
      "    \n",
      "        filename: `str`, optional\n",
      "            The custom file name to use for storing the data. If not\n",
      "            provided, the filename is set 'my-debit.prn'.\n",
      "    \n",
      "        start: `str`, optional\n",
      "            The start date to use for the data time series. The date must\n",
      "            be specified in a string following the ISO 8601-1:2019 standard,\n",
      "            i.e. “YYYY-MM-DD” (e.g. the 21st of May 2007 is “2007-05-21”).\n",
      "            If not provided, the earliest date in the available data is used.\n",
      "    \n",
      "        end: `str`, optional\n",
      "            The end date to use for the data time series. The date must\n",
      "            be specified in a string following the ISO 8601-1:2019 standard,\n",
      "            i.e. “YYYY-MM-DD” (e.g. the 21st of May 2007 is “2007-05-21”).\n",
      "            If not provided, the latest date in the available data is used.\n",
      "    \n",
      "        include_realtime: `bool`, optional\n",
      "            Whether to include real-time data (if available) and\n",
      "            aggregate it with consolidated data. If not provided,\n",
      "            set to default value `True`.\n",
      "    \n",
      "    :Returns:\n",
      "    \n",
      "        `None`\n",
      "    \n",
      "    **Examples**\n",
      "    \n",
      "    Generating a PRN file named *my-debit.prn* in *examples/my_example/data*\n",
      "    containing consolidated and real-time daily streamflow data for the\n",
      "    hydrometric station 'M107302001':\n",
      "    \n",
      "    >>> save_hydrometry(\n",
      "    ...     code_station='M107302001', working_dir='examples/my_example'\n",
      "    ... )\n",
      "    \n",
      "    Generating a PRN file named *my-debit.prn* in *examples/my_example/data*\n",
      "    containing only consolidated daily streamflow data for the hydrometric\n",
      "    station 'M107302001':\n",
      "    \n",
      "    >>> save_hydrometry(\n",
      "    ...     code_station='M107302001', working_dir='examples/my_example',\n",
      "    ...     include_realtime=False\n",
      "    ... )\n",
      "    \n",
      "    Generating a PRN file named *my-debit.prn* in *examples/my_example/data*\n",
      "    containing consolidated and real-time daily streamflow data for the\n",
      "    hydrometric station 'M107302001' for the period [1st Jan 1990,\n",
      "    1st Dec 2023]:\n",
      "    \n",
      "    >>> save_hydrometry(\n",
      "    ...     code_station='M107302001', working_dir='examples/my_example',\n",
      "    ...     start='1990-01-01', end='2023-12-01'\n",
      "    ... )\n",
      "    \n",
      "    Generating a PRN file named *debit-M107302001.prn* in\n",
      "    *examples/my_example/data*  containing consolidated and real-time\n",
      "    daily streamflow data for the hydrometric station 'M107302001':\n",
      "    \n",
      "    >>> save_hydrometry(\n",
      "    ...     code_station='M107302001', working_dir='examples/my_example',\n",
      "    ...     filename='debit-M107302001.prn'\n",
      "    ... )\n"
     ]
    }
   ],
   "source": [
    "help(myhubeau.store.save_hydrometry)"
   ],
   "metadata": {
    "collapsed": false,
    "ExecuteTime": {
     "end_time": "2024-01-08T09:16:33.581982100Z",
     "start_time": "2024-01-08T09:16:33.561207300Z"
    }
   },
   "id": "fa82a04d9526f26c",
   "execution_count": 7
  },
  {
   "cell_type": "code",
   "outputs": [],
   "source": [
    "myhubeau.store.save_hydrometry(\n",
    "    code_station='E642601001', \n",
    "    working_dir='../../examples/my-example',\n",
    "    filename='debit-E642601001.prn',\n",
    "    start='1985-01-01', end='2023-07-31'\n",
    ")"
   ],
   "metadata": {
    "collapsed": false,
    "ExecuteTime": {
     "end_time": "2024-01-08T09:17:49.952642800Z",
     "start_time": "2024-01-08T09:17:20.335426500Z"
    }
   },
   "id": "300f2ca2ee57b5c6",
   "execution_count": 8
  },
  {
   "cell_type": "code",
   "outputs": [
    {
     "name": "stdout",
     "output_type": "stream",
     "text": [
      "Date\tDebit\n",
      "1985-01-01\t4.234\n",
      "1985-01-02\t4.54\n",
      "1985-01-03\t4.466\n",
      "1985-01-04\t4.372\n"
     ]
    }
   ],
   "source": [
    "! head -5 '../../examples/my-example/data/debit-E642601001.prn'"
   ],
   "metadata": {
    "collapsed": false,
    "ExecuteTime": {
     "end_time": "2024-01-08T09:20:05.644923600Z",
     "start_time": "2024-01-08T09:20:05.569599700Z"
    }
   },
   "id": "9bc25d69938acc5c",
   "execution_count": 9
  },
  {
   "cell_type": "markdown",
   "source": [
    "## Piezometry"
   ],
   "metadata": {
    "collapsed": false
   },
   "id": "6137d171c3eb3366"
  },
  {
   "cell_type": "code",
   "outputs": [],
   "source": [
    "myhubeau.store.save_piezometry(\n",
    "    code_bss='00608X0028/S1', \n",
    "    working_dir='../../examples/my-example',\n",
    "    filename='niveau-00608X0028_S1.prn',\n",
    "    start='1985-01-01', end='2023-07-31'\n",
    ")"
   ],
   "metadata": {
    "collapsed": false,
    "ExecuteTime": {
     "end_time": "2024-01-08T09:21:10.209758200Z",
     "start_time": "2024-01-08T09:21:08.016743Z"
    }
   },
   "id": "d4a3475e3cb5229b",
   "execution_count": 10
  },
  {
   "cell_type": "code",
   "outputs": [
    {
     "name": "stdout",
     "output_type": "stream",
     "text": [
      "Date\tNiveau\n",
      "1985-01-01\t9999\n",
      "1985-01-02\t9999\n",
      "1985-01-03\t9999\n",
      "1985-01-04\t9999\n"
     ]
    }
   ],
   "source": [
    "! head -5 '../../examples/my-example/data/niveau-00608X0028_S1.prn'"
   ],
   "metadata": {
    "collapsed": false,
    "ExecuteTime": {
     "end_time": "2024-01-08T09:22:03.636924700Z",
     "start_time": "2024-01-08T09:22:03.565045400Z"
    }
   },
   "id": "b591e247d81781fc",
   "execution_count": 11
  },
  {
   "cell_type": "markdown",
   "source": [
    "## Withdrawal"
   ],
   "metadata": {
    "collapsed": false
   },
   "id": "93dd19be556d6346"
  },
  {
   "cell_type": "code",
   "outputs": [],
   "source": [
    "myhubeau.store.save_withdrawal(\n",
    "    code_ouvrage='OPR0000041735', \n",
    "    working_dir='../../examples/my-example',\n",
    "    filename='prelevement-OPR0000041735.prn',\n",
    "    start='1985-01-01', end='2023-07-31'\n",
    ")"
   ],
   "metadata": {
    "collapsed": false,
    "ExecuteTime": {
     "end_time": "2024-01-08T09:23:13.027374900Z",
     "start_time": "2024-01-08T09:23:12.734894300Z"
    }
   },
   "id": "af781d4a19ebe2f8",
   "execution_count": 12
  },
  {
   "cell_type": "code",
   "outputs": [
    {
     "name": "stdout",
     "output_type": "stream",
     "text": [
      "Date\tPrelevement souterrain\n",
      "1985-01-01\t\n",
      "1985-01-02\t\n",
      "1985-01-03\t\n",
      "1985-01-04\t\n"
     ]
    }
   ],
   "source": [
    "! head -5 '../../examples/my-example/data/prelevement-OPR0000041735.prn'"
   ],
   "metadata": {
    "collapsed": false,
    "ExecuteTime": {
     "end_time": "2024-01-08T09:23:30.405488800Z",
     "start_time": "2024-01-08T09:23:30.327774Z"
    }
   },
   "id": "dc4a678169689d16",
   "execution_count": 13
  }
 ],
 "metadata": {
  "kernelspec": {
   "display_name": "Python 3",
   "language": "python",
   "name": "python3"
  },
  "language_info": {
   "codemirror_mode": {
    "name": "ipython",
    "version": 2
   },
   "file_extension": ".py",
   "mimetype": "text/x-python",
   "name": "python",
   "nbconvert_exporter": "python",
   "pygments_lexer": "ipython2",
   "version": "2.7.6"
  }
 },
 "nbformat": 4,
 "nbformat_minor": 5
}
